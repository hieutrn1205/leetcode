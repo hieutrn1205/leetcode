{
 "cells": [
  {
   "cell_type": "code",
   "execution_count": null,
   "id": "7e8843aa",
   "metadata": {},
   "outputs": [],
   "source": [
    "Given an array of integers numbers, your task is to check all the triples of its consecutive elements for being a zigzag. More formally, your task is to construct an array of length numbers.length - 2, where the ith element of the output array equals 1 if the triple (numbers[i], numbers[i + 1], numbers[i + 2]) is a zigzag, and 0 otherwise.\n",
    "\n",
    "Example\n",
    "\n",
    "For numbers = [1, 2, 1, 3, 4], the output should be solution(numbers) = [1, 1, 0].\n",
    "\n",
    "(numbers[0], numbers[1], numbers[2]) = (1, 2, 1) is a zigzag, because 1 < 2 > 1;\n",
    "(numbers[1], numbers[2] , numbers[3]) = (2, 1, 3) is a zigzag, because 2 > 1 < 3;\n",
    "(numbers[2], numbers[3] , numbers[4]) = (1, 3, 4) is not a zigzag, because 1 < 3 < 4;\n",
    "For numbers = [1, 2, 3, 4], the output should be solution(numbers) = [0, 0];\n",
    "\n",
    "Since all the elements of numbers are increasing, there are no zigzags.\n",
    "\n",
    "For numbers = [1000000000, 1000000000, 1000000000], the output should be solution(numbers) = [0].\n",
    "\n",
    "Since all the elements of numbers are the same, there are no zigzags.\n",
    "\n",
    "Input/Output\n",
    "\n",
    "[execution time limit] 4 seconds (js)\n",
    "\n",
    "[input] array.integer numbers\n",
    "\n",
    "An array of integers.\n",
    "\n",
    "Guaranteed constraints:\n",
    "3 ≤ numbers.length ≤ 100,\n",
    "1 ≤ numbers[i] ≤ 109.\n",
    "\n",
    "[output] array.integer\n",
    "\n",
    "Return an array, where the ith element equals 1 if the triple (numbers[i], numbers[i + 1], numbers[i + 2]) is a zigzag, and 0 otherwise.``"
   ]
  },
  {
   "cell_type": "code",
   "execution_count": 104,
   "id": "21ead517",
   "metadata": {},
   "outputs": [
    {
     "data": {
      "text/plain": [
       "[1, 0, 1, 0]"
      ]
     },
     "execution_count": 104,
     "metadata": {},
     "output_type": "execute_result"
    }
   ],
   "source": [
    "def solution(arr):\n",
    "    res = []\n",
    "    for i in range(len(arr) - 2):\n",
    "        if (arr[i] < arr[i + 1] and arr[i + 1] > arr[i  + 2]):\n",
    "            res.append(1)\n",
    "        elif (arr[i] > arr[i + 1] and arr[i + 1] < arr[i + 2]):\n",
    "            res.append(1)\n",
    "        else:\n",
    "            res.append(0)\n",
    "\n",
    "    return res\n",
    "numbers = [1,2,1,0,4,6]\n",
    "solution(numbers)"
   ]
  }
 ],
 "metadata": {
  "kernelspec": {
   "display_name": "Python 3 (ipykernel)",
   "language": "python",
   "name": "python3"
  },
  "language_info": {
   "codemirror_mode": {
    "name": "ipython",
    "version": 3
   },
   "file_extension": ".py",
   "mimetype": "text/x-python",
   "name": "python",
   "nbconvert_exporter": "python",
   "pygments_lexer": "ipython3",
   "version": "3.9.12"
  }
 },
 "nbformat": 4,
 "nbformat_minor": 5
}
